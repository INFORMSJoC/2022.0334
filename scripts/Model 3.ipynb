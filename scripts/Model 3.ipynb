{
 "cells": [
  {
   "cell_type": "markdown",
   "metadata": {},
   "source": [
    "# Import Packages"
   ]
  },
  {
   "cell_type": "code",
   "execution_count": 1,
   "metadata": {},
   "outputs": [],
   "source": [
    "# import packages\n",
    "from gurobipy import *\n",
    "import numpy as np\n",
    "import pandas as pd"
   ]
  },
  {
   "cell_type": "markdown",
   "metadata": {},
   "source": [
    "# Parameters"
   ]
  },
  {
   "cell_type": "code",
   "execution_count": 2,
   "metadata": {},
   "outputs": [],
   "source": [
    "# Need input\n",
    "input_file_name = \"flat1000_76_0_upper_Q_m2\"\n",
    "file_type = \".txt\"\n",
    "file_path = \"\""
   ]
  },
  {
   "cell_type": "code",
   "execution_count": 3,
   "metadata": {},
   "outputs": [],
   "source": [
    "output_file_path = \"\""
   ]
  },
  {
   "cell_type": "code",
   "execution_count": 4,
   "metadata": {},
   "outputs": [],
   "source": [
    "timeLimit = 3600 * 24\n",
    "preQLin_val = 0\n",
    "logToFile = 1    # 1 for logging to file or else 0"
   ]
  },
  {
   "cell_type": "markdown",
   "metadata": {},
   "source": [
    "# Read Data"
   ]
  },
  {
   "cell_type": "code",
   "execution_count": 5,
   "metadata": {},
   "outputs": [],
   "source": [
    "with open (file_path + input_file_name + file_type, \"r\") as file:\n",
    "    count = 0\n",
    "    for line in file:\n",
    "        line = line.split()\n",
    "        #print(line)\n",
    "        if (count == 2):\n",
    "            n = int(line[2])\n",
    "            K = int(line[3])\n",
    "            p = int(line[4])\n",
    "            Q = np.zeros((n*K,n*K))\n",
    "        elif (count >= 6):\n",
    "            i = int(line[0])\n",
    "            j = int(line[1])\n",
    "            value = float(line[2])\n",
    "            \n",
    "            Q[i-1][j-1] = -value\n",
    "                    \n",
    "        count = count + 1"
   ]
  },
  {
   "cell_type": "markdown",
   "metadata": {},
   "source": [
    "# Build Model"
   ]
  },
  {
   "cell_type": "code",
   "execution_count": null,
   "metadata": {
    "scrolled": true
   },
   "outputs": [],
   "source": [
    "# Create a new model\n",
    "m1 = Model(\"MSCP3\")\n",
    "\n",
    "# Logging\n",
    "if logToFile == 1:\n",
    "    m1.Params.LogFile = output_file_path + input_file_name + \"_m2_\" + str(preQLin_val) + \"_24hrs.log\"\n",
    "    m1.Params.LogToConsole = 0\n",
    "\n",
    "# Create variables\n",
    "X = m1.addMVar(n*K, vtype=GRB.BINARY, name=\"X\")\n",
    "\n",
    "# Objective function\n",
    "obj_func = X @ Q @ X\n",
    "\n",
    "# Constraint\n",
    "for i in range(0,n):\n",
    "    m1.addConstr(X[i*K:(i+1)*K].sum() == 1)\n",
    "\n",
    "# preprocessing type\n",
    "m1.Params.PreQLinearize= preQLin_val\n",
    "\n",
    "# Set objective\n",
    "m1.setObjective(obj_func, GRB.MINIMIZE)\n",
    "\n",
    "# Time limit\n",
    "m1.Params.timelimit = timeLimit\n",
    "\n",
    "# Optimize model\n",
    "m1.optimize()\n",
    "\n",
    "if logToFile == 1:\n",
    "    m1.Params.LogFile = \"\""
   ]
  }
 ],
 "metadata": {
  "kernelspec": {
   "display_name": "Python 3",
   "language": "python",
   "name": "python3"
  },
  "language_info": {
   "codemirror_mode": {
    "name": "ipython",
    "version": 3
   },
   "file_extension": ".py",
   "mimetype": "text/x-python",
   "name": "python",
   "nbconvert_exporter": "python",
   "pygments_lexer": "ipython3",
   "version": "3.7.3"
  }
 },
 "nbformat": 4,
 "nbformat_minor": 2
}
