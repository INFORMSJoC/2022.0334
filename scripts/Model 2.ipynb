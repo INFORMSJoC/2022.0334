{
 "cells": [
  {
   "cell_type": "markdown",
   "metadata": {},
   "source": [
    "# Import Packages"
   ]
  },
  {
   "cell_type": "code",
   "execution_count": 1,
   "metadata": {},
   "outputs": [],
   "source": [
    "from gurobipy import *\n",
    "import numpy as np\n",
    "import pandas as pd"
   ]
  },
  {
   "cell_type": "markdown",
   "metadata": {},
   "source": [
    "# Parameters"
   ]
  },
  {
   "cell_type": "code",
   "execution_count": 2,
   "metadata": {},
   "outputs": [],
   "source": [
    "# Need input\n",
    "input_file_name = \"DSJC125.9_upper_Q\"\n",
    "file_type = \".txt\"\n",
    "file_path = \"\""
   ]
  },
  {
   "cell_type": "code",
   "execution_count": 3,
   "metadata": {},
   "outputs": [],
   "source": [
    "warm_start_file = \"\"\n",
    "output_file_path = \"\""
   ]
  },
  {
   "cell_type": "code",
   "execution_count": 5,
   "metadata": {},
   "outputs": [],
   "source": [
    "warm_start = False\n",
    "timeLimit = 1800\n",
    "preQLin_val = 1\n",
    "logToFile = 0    # 1 for logging to file or else 0"
   ]
  },
  {
   "cell_type": "markdown",
   "metadata": {},
   "source": [
    "# Read Data"
   ]
  },
  {
   "cell_type": "code",
   "execution_count": 6,
   "metadata": {},
   "outputs": [],
   "source": [
    "with open (file_path + input_file_name + file_type, \"r\") as file:\n",
    "    count = 0\n",
    "    for line in file:\n",
    "        line = line.split()\n",
    "        \n",
    "        if (count == 2):\n",
    "            n = int(line[2])\n",
    "            K = int(line[3])\n",
    "            p = int(line[4])\n",
    "            Q = np.zeros((n*K,n*K))\n",
    "        elif (count == 3):\n",
    "            constant = int(line[4])\n",
    "        elif (count >= 6):\n",
    "            i = int(line[0])\n",
    "            j = int(line[1])\n",
    "            value = float(line[2])\n",
    "            \n",
    "            Q[i-1][j-1] = -value\n",
    "                    \n",
    "        count = count + 1"
   ]
  },
  {
   "cell_type": "markdown",
   "metadata": {},
   "source": [
    "# Build Model"
   ]
  },
  {
   "cell_type": "code",
   "execution_count": 9,
   "metadata": {},
   "outputs": [],
   "source": [
    "def get_last_best_value_and_array(file_path):\n",
    "    # Initialize variables to hold the last \"NEW BEST\" value and array\n",
    "    last_best_value = None\n",
    "    last_best_array = []\n",
    "\n",
    "    # Open the file\n",
    "    with open(file_path, \"r\") as file:\n",
    "        lines = file.readlines()\n",
    "\n",
    "    # Iterate over the lines in the file\n",
    "    for i in range(len(lines)):\n",
    "        # If a line contains \"NEW BEST\", store its value and the next line's array\n",
    "        if \"NEW BEST\" in lines[i]:\n",
    "            # Extract the value by splitting the line and converting to float\n",
    "            last_best_value = float(lines[i].split(\":\")[2])\n",
    "            \n",
    "            # If the next line exists and is not an empty line\n",
    "            if i+1 < len(lines) and lines[i+1].strip():\n",
    "                # Convert the next line to an array of integers\n",
    "                last_best_array = [int(char) for char in lines[i+1].strip() if char in '10']\n",
    "\n",
    "    return last_best_value, last_best_array"
   ]
  },
  {
   "cell_type": "code",
   "execution_count": null,
   "metadata": {
    "scrolled": true
   },
   "outputs": [],
   "source": [
    "# Create a new model\n",
    "m1 = Model(\"MSCP2\")\n",
    "\n",
    "# Logging\n",
    "if logToFile == 1:\n",
    "    m1.Params.LogFile = output_file_path + input_file_name + \"_m3_\"  + str(preQLin_val) + \".log\"\n",
    "    m1.Params.LogToConsole = 0\n",
    "\n",
    "# Create variables\n",
    "X = m1.addMVar(n*K, vtype=GRB.BINARY, name=\"X\")\n",
    "\n",
    "if warm_start:\n",
    "    best_value, warm_start_values = get_last_best_value_and_array(warm_start_file)\n",
    "    X.Start = warm_start_values\n",
    "\n",
    "# Objective function\n",
    "obj_func = X @ Q @ X + constant\n",
    "\n",
    "# preprocessing type\n",
    "m1.Params.PreQLinearize= preQLin_val\n",
    "\n",
    "# Set objective\n",
    "m1.setObjective(obj_func, GRB.MINIMIZE)\n",
    "\n",
    "# Time limit\n",
    "m1.Params.timelimit = timeLimit\n",
    "\n",
    "# Optimize model\n",
    "m1.optimize()\n",
    "\n",
    "if logToFile == 1:\n",
    "    m1.Params.LogFile = \"\""
   ]
  }
 ],
 "metadata": {
  "kernelspec": {
   "display_name": "Python 3",
   "language": "python",
   "name": "python3"
  },
  "language_info": {
   "codemirror_mode": {
    "name": "ipython",
    "version": 3
   },
   "file_extension": ".py",
   "mimetype": "text/x-python",
   "name": "python",
   "nbconvert_exporter": "python",
   "pygments_lexer": "ipython3",
   "version": "3.7.3"
  }
 },
 "nbformat": 4,
 "nbformat_minor": 2
}
