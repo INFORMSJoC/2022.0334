{
 "cells": [
  {
   "cell_type": "markdown",
   "metadata": {},
   "source": [
    "# Import Packages"
   ]
  },
  {
   "cell_type": "code",
   "execution_count": null,
   "metadata": {},
   "outputs": [],
   "source": [
    "from gurobipy import *\n",
    "import numpy as np\n",
    "import pandas as pd"
   ]
  },
  {
   "cell_type": "markdown",
   "metadata": {},
   "source": [
    "# Parameters"
   ]
  },
  {
   "cell_type": "code",
   "execution_count": 4,
   "metadata": {},
   "outputs": [],
   "source": [
    "# Input\n",
    "input_file_name = \"queen5.5\"\n",
    "file_type = \".txt\"\n",
    "file_path = \"\""
   ]
  },
  {
   "cell_type": "code",
   "execution_count": 5,
   "metadata": {},
   "outputs": [],
   "source": [
    "timeLimit = 3600 * 24\n",
    "output_file_path = \"\""
   ]
  },
  {
   "cell_type": "markdown",
   "metadata": {},
   "source": [
    "# Read Data"
   ]
  },
  {
   "cell_type": "code",
   "execution_count": null,
   "metadata": {},
   "outputs": [],
   "source": [
    "data = open(file_path + input_file_name + file_type,'r')\n",
    "\n",
    "data = data.read()\n",
    "data=data.split('\\n')\n",
    "data=pd.DataFrame(data)\n",
    "\n",
    "print(\"Data size: \",data.shape)\n",
    "data.head()"
   ]
  },
  {
   "cell_type": "code",
   "execution_count": null,
   "metadata": {},
   "outputs": [],
   "source": [
    "data=data[0].str.split(' ', expand=True)\n",
    "data.head()"
   ]
  },
  {
   "cell_type": "markdown",
   "metadata": {},
   "source": [
    "# Build Model"
   ]
  },
  {
   "cell_type": "code",
   "execution_count": null,
   "metadata": {},
   "outputs": [],
   "source": [
    "n = int(data.iloc[0][0])\n",
    "K = int(data.iloc[0][1])\n",
    "p = int(data.iloc[0][2])\n",
    "\n",
    "E = int(data.iloc[1][1])\n",
    "\n",
    "data=data.iloc[:,:3]\n",
    "\n",
    "# dropping first 2 rows\n",
    "data=data.drop([0,1])\n",
    "\n",
    "# dropping all rows with 'None'\n",
    "data.drop(data[data.isnull().any(axis=1)].index,inplace=True)\n",
    "\n",
    "print(\"Data Shape: \",data.shape)\n",
    "data.head()"
   ]
  },
  {
   "cell_type": "code",
   "execution_count": 7,
   "metadata": {},
   "outputs": [],
   "source": [
    "edge_matrix = np.zeros((n,n))\n",
    "\n",
    "for e in range(0,data.shape[0]):\n",
    "    i = int(data.iloc[e][1])\n",
    "    j = int(data.iloc[e][2])\n",
    "    \n",
    "    if j>=i:\n",
    "        edge_matrix[i-1][j-1] = 1\n",
    "    else:\n",
    "        edge_matrix[j-1][i-1] = 1"
   ]
  },
  {
   "cell_type": "code",
   "execution_count": null,
   "metadata": {
    "scrolled": true
   },
   "outputs": [],
   "source": [
    "# Create a new model\n",
    "m1 = Model(\"MSCP1\")\n",
    "\n",
    "# Logging\n",
    "m1.Params.LogFile = output_file_path + input_file_name + \"_m1_24hrs.log\"\n",
    "m1.Params.LogToConsole = 0\n",
    "\n",
    "# Create variables\n",
    "X = m1.addVars(n, K, vtype=GRB.BINARY, name=\"X\")\n",
    "\n",
    "# Objective function\n",
    "obj_func = LinExpr()\n",
    "\n",
    "for i in range(1,n+1):\n",
    "    for j in range(1,K+1):\n",
    "        obj_func.addTerms(j,X[i-1,j-1])\n",
    "\n",
    "# Constraints\n",
    "# Constraint 1\n",
    "for i in range(1,n+1):\n",
    "    constraint_1 = LinExpr()\n",
    "    for j in range(1,K+1):\n",
    "        constraint_1.addTerms(1,X[i-1,j-1])\n",
    "    m1.addConstr(constraint_1 == 1)\n",
    "\n",
    "# Constraint 2        \n",
    "for i in range(0,n):\n",
    "    for j in range(i,n):\n",
    "        if (edge_matrix[i][j] == 1):\n",
    "            for k in range(0,K):\n",
    "                m1.addConstr(X[i,k] + X[j,k] <= 1)\n",
    "\n",
    "\n",
    "# Set objective\n",
    "m1.setObjective(obj_func, GRB.MINIMIZE)\n",
    "\n",
    "# Time limit\n",
    "m1.Params.timelimit = timeLimit\n",
    "\n",
    "# Optimize model\n",
    "m1.optimize()\n",
    "\n",
    "print('Obj: %g' % m1.objVal)\n",
    "\n",
    "m1.Params.LogFile = \"\""
   ]
  }
 ],
 "metadata": {
  "kernelspec": {
   "display_name": "Python 3 (ipykernel)",
   "language": "python",
   "name": "python3"
  },
  "language_info": {
   "codemirror_mode": {
    "name": "ipython",
    "version": 3
   },
   "file_extension": ".py",
   "mimetype": "text/x-python",
   "name": "python",
   "nbconvert_exporter": "python",
   "pygments_lexer": "ipython3",
   "version": "3.10.11"
  }
 },
 "nbformat": 4,
 "nbformat_minor": 2
}
